{
 "cells": [
  {
   "cell_type": "code",
   "execution_count": 1,
   "metadata": {},
   "outputs": [],
   "source": [
    "from PIL import Image\n",
    "import os\n",
    "import numpy as np\n",
    "from feature import NPDFeature\n",
    "import pickle\n",
    "from sklearn.model_selection import train_test_split\n",
    "from sklearn.tree import DecisionTreeClassifier as Classifier\n",
    "from ensemble import AdaBoostClassifier\n",
    "from sklearn.metrics import classification_report"
   ]
  },
  {
   "cell_type": "code",
   "execution_count": 2,
   "metadata": {
    "scrolled": true
   },
   "outputs": [],
   "source": [
    "#读取图片、转换为24*24的灰度图、转成NPD特征、写入pickle文件中\n",
    "face_dirpath = os.path.join('datasets','original','face')\n",
    "nonface_dirpath = os.path.join('datasets','original','nonface')\n",
    "face_paths = [os.path.join(face_dirpath,name) for name in os.listdir(face_dirpath)]\n",
    "nonface_paths = [os.path.join(nonface_dirpath,name) for name in os.listdir(nonface_dirpath)]\n",
    "examples_path = os.path.join('datasets','feature.pkl')\n",
    "\n",
    "if not os.path.exists(examples_path):\n",
    "    face_imgs = [Image.open(path).resize((24,24)).convert('L') for path in face_paths]\n",
    "    face_examples = [[NPDFeature(np.array(img)).extract(),1] for img in face_imgs]\n",
    "    nonface_imgs = [Image.open(path).resize((24,24)).convert('L') for path in nonface_paths]\n",
    "    nonface_examples = [[NPDFeature(np.array(img)).extract(),-1] for img in nonface_imgs]\n",
    "    examples = face_examples + nonface_examples\n",
    "    np.random.shuffle(examples)\n",
    "    with open(examples_path,'wb') as f:\n",
    "        pickle.dump(examples,f)"
   ]
  },
  {
   "cell_type": "code",
   "execution_count": 3,
   "metadata": {},
   "outputs": [],
   "source": [
    "#读取数据，划分训练集和验证集\n",
    "with open(examples_path,'rb') as f:\n",
    "    examples = pickle.load(f)\n",
    "features,labels = zip(*examples)\n",
    "feature_train,feature_valid,label_train,label_valid = train_test_split(np.array(features),np.array(labels),test_size=0.33,random_state=42)"
   ]
  },
  {
   "cell_type": "code",
   "execution_count": 7,
   "metadata": {},
   "outputs": [],
   "source": [
    "#创建模型、训练、及输出报告\n",
    "classifier = AdaBoostClassifier(Classifier,8)\n",
    "classifier.fit(feature_train,label_train)\n",
    "predict_label = classifier.predict(feature_valid)\n",
    "report = classification_report(label_valid,predict_label,target_names=['class nonface','class face'])\n",
    "with open('classifier_report.txt','w') as f:\n",
    "    f.write(report)"
   ]
  },
  {
   "cell_type": "code",
   "execution_count": 6,
   "metadata": {},
   "outputs": [
    {
     "name": "stdout",
     "output_type": "stream",
     "text": [
      "               precision    recall  f1-score   support\n",
      "\n",
      "class nonface       0.95      0.96      0.95       172\n",
      "   class face       0.96      0.94      0.95       158\n",
      "\n",
      "     accuracy                           0.95       330\n",
      "    macro avg       0.95      0.95      0.95       330\n",
      " weighted avg       0.95      0.95      0.95       330\n",
      "\n"
     ]
    }
   ],
   "source": [
    "print(report)"
   ]
  },
  {
   "cell_type": "code",
   "execution_count": null,
   "metadata": {},
   "outputs": [],
   "source": []
  },
  {
   "cell_type": "code",
   "execution_count": null,
   "metadata": {},
   "outputs": [],
   "source": []
  }
 ],
 "metadata": {
  "kernelspec": {
   "display_name": "Python 3",
   "language": "python",
   "name": "python3"
  },
  "language_info": {
   "codemirror_mode": {
    "name": "ipython",
    "version": 3
   },
   "file_extension": ".py",
   "mimetype": "text/x-python",
   "name": "python",
   "nbconvert_exporter": "python",
   "pygments_lexer": "ipython3",
   "version": "3.7.3"
  }
 },
 "nbformat": 4,
 "nbformat_minor": 2
}
