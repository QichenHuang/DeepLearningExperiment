{
 "cells": [
  {
   "cell_type": "code",
   "execution_count": 1,
   "metadata": {},
   "outputs": [],
   "source": [
    "import pandas as pd\n",
    "import numpy as np\n",
    "import matplotlib.pyplot as plt\n",
    "%matplotlib inline"
   ]
  },
  {
   "cell_type": "code",
   "execution_count": 2,
   "metadata": {},
   "outputs": [],
   "source": [
    "training_path = 'ml-100k/ua.base'\n",
    "validation_path = 'ml-100k/ua.test'\n",
    "#读取训练集和测试集\n",
    "training_set = pd.read_csv(training_path,sep='\\t',names=['user_id','item_id','rating','timestamp'])\n",
    "validation_set = pd.read_csv(validation_path,sep='\\t',names=['user_id','item_id','rating','timestamp'])\n",
    "#填充评分矩阵\n",
    "n_users = np.max(training_set['user_id'].unique())\n",
    "n_items = np.max(training_set['item_id'].unique())\n",
    "R = np.zeros((n_users,n_items))\n",
    "validation_R = np.zeros(R.shape)\n",
    "for row in training_set.itertuples(index=False):\n",
    "    R[row.user_id-1][row.item_id-1] = row.rating\n",
    "for row in validation_set.itertuples(index=False):\n",
    "    validation_R[row.user_id-1][row.item_id-1] = row.rating"
   ]
  },
  {
   "cell_type": "code",
   "execution_count": 3,
   "metadata": {},
   "outputs": [],
   "source": [
    "#损失函数\n",
    "def mse_loss(ground_truth,P,Q):\n",
    "    predict = P.dot(Q.T)\n",
    "    assert ground_truth.shape == predict.shape\n",
    "    step_matrix = np.array(ground_truth > 0,dtype=np.int)\n",
    "    square_error = (predict*step_matrix - ground_truth)**2\n",
    "    result = square_error.sum()/step_matrix.sum()\n",
    "    return result\n",
    "def mse_loss_penalty(ground_truth,P,Q,lambda_):\n",
    "    result = mse_loss(ground_truth,P,Q) + (P**2).sum()/P.size * lambda_ + (Q**2).sum()/Q.size * lambda_\n",
    "    return result\n",
    "#交替最小二乘法，更新指定用户或指定物品\n",
    "def ALS_update_single(fix_matrix,rating_vec):\n",
    "    step_matrix = np.array(rating_vec>0,dtype=np.int).reshape(-1,1)\n",
    "    modified_matrix = fix_matrix * step_matrix\n",
    "    left = modified_matrix.T.dot(modified_matrix) + lambda_ * np.eye(modified_matrix.shape[1])\n",
    "    right = modified_matrix.T.dot(rating_vec)\n",
    "    result = np.linalg.solve(left,right)\n",
    "    return result\n",
    "#交替最小二乘法，返回更新的用户或物品矩阵\n",
    "def ALS_update(fix_matrix,rating_matrix):\n",
    "    result = []\n",
    "    for i in range(rating_matrix.shape[0]):\n",
    "        single_result = ALS_update_single(fix_matrix,rating_matrix[i])\n",
    "        result.append(single_result)\n",
    "    return np.array(result)"
   ]
  },
  {
   "cell_type": "code",
   "execution_count": 8,
   "metadata": {},
   "outputs": [],
   "source": [
    "#参数初始化\n",
    "K = 40\n",
    "P = np.random.rand(n_users,K)\n",
    "Q = np.random.rand(n_items,K)\n",
    "lambda_ = 0.5\n",
    "n_iteration = 100\n",
    "\n",
    "#参数更新过程\n",
    "training_losses = [mse_loss_penalty(R,P,Q,lambda_)]\n",
    "#validation_losses = [mse_loss_penalty(validation_R,P,Q,lambda_)]\n",
    "validation_losses = [mse_loss(validation_R,P,Q)]\n",
    "for n_iter in range(n_iteration):\n",
    "    #交替更新用户矩阵和物品矩阵\n",
    "    P = ALS_update(Q,R)\n",
    "    Q = ALS_update(P,R.T)\n",
    "    validation_loss = mse_loss(validation_R,P,Q)\n",
    "    if validation_loss > validation_losses[-1]:\n",
    "        break\n",
    "    training_losses.append(mse_loss_penalty(R,P,Q,lambda_))\n",
    "    #validation_losses.append(mse_loss_penalty(validation_R,P,Q,lambda_))\n",
    "    validation_losses.append(validation_loss)"
   ]
  },
  {
   "cell_type": "code",
   "execution_count": 9,
   "metadata": {},
   "outputs": [
    {
     "data": {
      "image/png": "[encoded data removed]",
      "text/plain": [
       "<Figure size 432x288 with 1 Axes>"
      ]
     },
     "metadata": {
      "needs_background": "light"
     },
     "output_type": "display_data"
    }
   ],
   "source": [
    "#绘图\n",
    "plt.title('loss')\n",
    "plt.xlabel('training step')\n",
    "plt.ylabel('loss value')\n",
    "plt.plot(range(len(training_losses)),training_losses,label='training loss')\n",
    "plt.plot(range(len(validation_losses)),validation_losses,label='validation loss')\n",
    "plt.legend(loc = \"best\")\n",
    "plt.show()"
   ]
  },
  {
   "cell_type": "code",
   "execution_count": 10,
   "metadata": {},
   "outputs": [
    {
     "data": {
      "text/plain": [
       "[43.56108381957257,\n",
       " 1.799411819044657,\n",
       " 1.612465635556664,\n",
       " 1.587278527490811,\n",
       " 1.5931422802254003,\n",
       " 1.6065071384408995,\n",
       " 1.6211200572988431,\n",
       " 1.6354561252751088,\n",
       " 1.6486955097172475,\n",
       " 1.660328825835569,\n",
       " 1.6702945457529217,\n",
       " 1.6788973244424743,\n",
       " 1.6865514182622867,\n",
       " 1.6936113522704535,\n",
       " 1.700282639559277,\n",
       " 1.7066477600085848,\n",
       " 1.7127583884562625,\n",
       " 1.7186095060577078,\n",
       " 1.724139760291546,\n",
       " 1.7292903844252696,\n",
       " 1.7340330610217252,\n",
       " 1.7383710047514886,\n",
       " 1.74233840399037,\n",
       " 1.7460000638206066,\n",
       " 1.7494408698498878,\n",
       " 1.7527444436406139,\n",
       " 1.7559720075938885,\n",
       " 1.7591515939431581,\n",
       " 1.762279838268436,\n",
       " 1.7653319837090593,\n",
       " 1.7682738373050317,\n",
       " 1.771071572655803,\n",
       " 1.7736980500389492,\n",
       " 1.7761358174286164,\n",
       " 1.7783775590175268,\n",
       " 1.7804249930543483,\n",
       " 1.78228714792505,\n",
       " 1.7839786243379558,\n",
       " 1.7855180731951352,\n",
       " 1.7869268577417625,\n",
       " 1.788227781118136,\n",
       " 1.7894437993769112,\n",
       " 1.7905967241449785,\n",
       " 1.7917059881477821,\n",
       " 1.7927875777962636,\n",
       " 1.7938532357522632,\n",
       " 1.7949100189687899,\n",
       " 1.7959602723002874,\n",
       " 1.7970020397116275,\n",
       " 1.7980298790111024,\n",
       " 1.7990359795302828,\n",
       " 1.800011424879026,\n",
       " 1.8009474145771434,\n",
       " 1.8018362715281253,\n",
       " 1.8026721197040205,\n",
       " 1.8034512035055723,\n",
       " 1.8041719025634362,\n",
       " 1.8048345393004595,\n",
       " 1.8054410750402334,\n",
       " 1.805994764342487,\n",
       " 1.8064998092750328,\n",
       " 1.8069610354250256,\n",
       " 1.8073836013120892,\n",
       " 1.8077727520734228,\n",
       " 1.808133632352156,\n",
       " 1.80847117223414,\n",
       " 1.8087900457098591,\n",
       " 1.809094677897146,\n",
       " 1.8093892616254188,\n",
       " 1.8096777490014369,\n",
       " 1.809963805332467,\n",
       " 1.8102507353231843,\n",
       " 1.8105414024488466,\n",
       " 1.8108381608379056,\n",
       " 1.8111428109537402,\n",
       " 1.811456581969192,\n",
       " 1.811780138024139,\n",
       " 1.8121136029594591,\n",
       " 1.8124565978183882,\n",
       " 1.8128082863514063,\n",
       " 1.813167425117899,\n",
       " 1.8135324160451947,\n",
       " 1.8139013602790774,\n",
       " 1.8142721128266042,\n",
       " 1.8146423379179952,\n",
       " 1.8150095652634477,\n",
       " 1.8153712474852786,\n",
       " 1.8157248189690118,\n",
       " 1.816067756193215,\n",
       " 1.8163976392648902,\n",
       " 1.8167122139185865,\n",
       " 1.8170094526669456,\n",
       " 1.8172876131772482,\n",
       " 1.8175452913770787,\n",
       " 1.8177814663617602,\n",
       " 1.8179955339860885,\n",
       " 1.818187326152742,\n",
       " 1.818357113312148,\n",
       " 1.8185055885858252,\n",
       " 1.818633833214925,\n",
       " 1.818743264679547]"
      ]
     },
     "execution_count": 10,
     "metadata": {},
     "output_type": "execute_result"
    }
   ],
   "source": [
    "validation_losses"
   ]
  },
  {
   "cell_type": "code",
   "execution_count": null,
   "metadata": {},
   "outputs": [],
   "source": []
  }
 ],
 "metadata": {
  "kernelspec": {
   "display_name": "Python 3",
   "language": "python",
   "name": "python3"
  },
  "language_info": {
   "codemirror_mode": {
    "name": "ipython",
    "version": 3
   },
   "file_extension": ".py",
   "mimetype": "text/x-python",
   "name": "python",
   "nbconvert_exporter": "python",
   "pygments_lexer": "ipython3",
   "version": "3.7.3"
  }
 },
 "nbformat": 4,
 "nbformat_minor": 2
}
