{
 "cells": [
  {
   "cell_type": "code",
   "execution_count": 1,
   "metadata": {},
   "outputs": [],
   "source": [
    "#导入包\n",
    "from sklearn.datasets import load_svmlight_file\n",
    "import numpy as np\n",
    "import matplotlib.pyplot as plt\n",
    "%matplotlib inline"
   ]
  },
  {
   "cell_type": "code",
   "execution_count": 2,
   "metadata": {},
   "outputs": [],
   "source": [
    "#logistic loss函数\n",
    "def logistic_loss(X,w,y):\n",
    "    if(y.shape[0]!=X.shape[0]):\n",
    "        raise \"y和X长度不同\"\n",
    "    if(X.shape[1]!=w.shape[0]):\n",
    "        raise \"X的列数与w的长度不同\"\n",
    "    single_loss = np.log(1 + np.exp(-y * X.dot(w)))\n",
    "    return single_loss.mean()\n",
    "#logistic 梯度\n",
    "def logistic_gradient(X,w,y):\n",
    "    if(y.shape[0]!=X.shape[0]):\n",
    "        raise \"y和X长度不同\"\n",
    "    if(X.shape[1]!=w.shape[0]):\n",
    "        raise \"X的列数与w的长度不同\"\n",
    "    denominator = 1 + np.exp(y * X.dot(w))\n",
    "    numerator = y.reshape(-1,1) * X\n",
    "    single_gradient = -numerator / denominator.reshape(-1,1)\n",
    "    return np.mean(single_gradient,axis=0)\n",
    "#logistic 准确率\n",
    "def logistic_accuracy(X,w,y):\n",
    "    if(y.shape[0]!=X.shape[0]):\n",
    "        raise \"y和X长度不同\"\n",
    "    if(X.shape[1]!=w.shape[0]):\n",
    "        raise \"X的列数与w的长度不同\"\n",
    "    single_predict = (y * X.dot(w)) > 0\n",
    "    return single_predict.mean()\n",
    "#SVM 梯度\n",
    "def SVM_gradient(X,w,y,C):\n",
    "    if(y.shape[0]!=X.shape[0]):\n",
    "        raise \"y和X长度不同\"\n",
    "    if(X.shape[1]!=w.shape[0]):\n",
    "        raise \"X的列数与w的长度不同\"\n",
    "    single_grad = -y.reshape(-1,1) * X\n",
    "    hinge = 1 - y * X.dot(w)\n",
    "    single_grad[hinge <= 0] = 0\n",
    "    w_pure = np.append(w[:-1],0)\n",
    "    return w_pure + C * single_grad.mean(axis=0)\n",
    "#SVM loss 函数\n",
    "def SVM_loss(X,w,y,C):\n",
    "    if(y.shape[0]!=X.shape[0]):\n",
    "        raise \"y和X长度不同\"\n",
    "    if(X.shape[1]!=w.shape[0]):\n",
    "        raise \"X的列数与w的长度不同\"\n",
    "    hinge = 1 - y * X.dot(w)\n",
    "    hinge[hinge<0] = 0\n",
    "    return 0.5 * w.dot(w) + C * hinge.mean()\n",
    "#SVM 准确率\n",
    "def SVM_accuracy(X,w,y):\n",
    "    if(y.shape[0]!=X.shape[0]):\n",
    "        raise \"y和X长度不同\"\n",
    "    if(X.shape[1]!=w.shape[0]):\n",
    "        raise \"X的列数与w的长度不同\"\n",
    "    single_predict = (y * X.dot(w)) > 0\n",
    "    return single_predict.mean()"
   ]
  },
  {
   "cell_type": "code",
   "execution_count": 3,
   "metadata": {},
   "outputs": [],
   "source": [
    "#读取数据\n",
    "X_train,y_train = load_svmlight_file('a9a.txt',n_features=123)\n",
    "X_train = X_train.toarray()\n",
    "X_validation,y_validation = load_svmlight_file('a9a.t',n_features=123)\n",
    "X_validation = X_validation.toarray()\n",
    "#为X添加一维值为 1 的特征，误差计算变为 y - Xw,方便运算\n",
    "train_ones = [[1]]*X_train.shape[0]\n",
    "validation_ones = [[1]]*X_validation.shape[0]\n",
    "X_train = np.concatenate((X_train,train_ones),axis=1)\n",
    "X_validation = np.concatenate((X_validation,validation_ones),axis=1)\n",
    "#参数初始化\n",
    "w = np.random.randn(X_train.shape[1])\n",
    "batch_size = 100\n",
    "training_step = 5000\n",
    "learning_rate = 0.01\n",
    "C = 1"
   ]
  },
  {
   "cell_type": "code",
   "execution_count": null,
   "metadata": {},
   "outputs": [],
   "source": [
    "#----------------逻辑回归与批量随机梯度下降------------------\n",
    "#参数初始化\n",
    "w = np.random.randn(X_train.shape[1])\n",
    "batch_size = 100\n",
    "training_step = 10000\n",
    "learning_rate = 0.01\n",
    "#循环mini-batch 随机梯度下降\n",
    "training_loss = []\n",
    "validation_loss = []\n",
    "training_accuracy = []\n",
    "validation_accuracy = []\n",
    "for i in range(training_step):\n",
    "    #随机选取批次\n",
    "    random_index = np.random.randint(0,X_train.shape[0],batch_size)\n",
    "    batch_x = X_train[random_index]\n",
    "    batch_y = y_train[random_index]\n",
    "    #loss值和准确率\n",
    "    training_loss.append(logistic_loss(X_train,w,y_train))\n",
    "    validation_loss.append(logistic_loss(X_validation,w,y_validation))\n",
    "    training_accuracy.append(logistic_accuracy(X_train,w,y_train))\n",
    "    validation_accuracy.append(logistic_accuracy(X_validation,w,y_validation))\n",
    "    #梯度更新\n",
    "    w -= learning_rate * logistic_gradient(batch_x,w,batch_y)\n",
    "print('训练集准确率%f'%training_accuracy[-1])\n",
    "print('验证集准确率%f'%validation_accuracy[-1])\n",
    "#绘图\n",
    "plt.title('loss')\n",
    "plt.xlabel('training step')\n",
    "plt.ylabel('loss value')\n",
    "plt.plot(range(training_step),training_loss,label='training loss')\n",
    "plt.plot(range(training_step),validation_loss,label='validation loss')\n",
    "plt.legend(loc = \"best\")\n",
    "plt.show()\n",
    "plt.title('accuracy')\n",
    "plt.xlabel('training step')\n",
    "plt.ylabel('accuracy')\n",
    "plt.plot(range(training_step),training_accuracy,label='training accuracy')\n",
    "plt.plot(range(training_step),validation_accuracy,label='validation accuracy')\n",
    "plt.legend(loc = \"best\")\n",
    "plt.show()"
   ]
  },
  {
   "cell_type": "code",
   "execution_count": 5,
   "metadata": {},
   "outputs": [
    {
     "data": {
      "image/png": "[encoded data removed]",
      "text/plain": [
       "<Figure size 432x288 with 1 Axes>"
      ]
     },
     "metadata": {
      "needs_background": "light"
     },
     "output_type": "display_data"
    },
    {
     "data": {
      "image/png": "[encoded data removed]",
      "text/plain": [
       "<Figure size 432x288 with 1 Axes>"
      ]
     },
     "metadata": {
      "needs_background": "light"
     },
     "output_type": "display_data"
    }
   ],
   "source": [
    "#-----------------线性分类与批量随机梯度下降--------------------\n",
    "#参数初始化\n",
    "w = np.random.randn(X_train.shape[1])\n",
    "batch_size = 100\n",
    "training_step = 10000\n",
    "learning_rate = 0.01\n",
    "C = 1\n",
    "#循环mini-batch 随机梯度下降\n",
    "training_loss = []\n",
    "validation_loss = []\n",
    "training_accuracy = []\n",
    "validation_accuracy = []\n",
    "for i in range(training_step):\n",
    "    #随机选取批次\n",
    "    random_index = np.random.randint(0,X_train.shape[0],batch_size)\n",
    "    batch_x = X_train[random_index]\n",
    "    batch_y = y_train[random_index]\n",
    "    #loss值和准确率\n",
    "    training_loss.append(SVM_loss(X_train,w,y_train,C))\n",
    "    validation_loss.append(SVM_loss(X_validation,w,y_validation,C))\n",
    "    training_accuracy.append(SVM_accuracy(X_train,w,y_train))\n",
    "    validation_accuracy.append(SVM_accuracy(X_validation,w,y_validation))\n",
    "    #梯度更新\n",
    "    w -= learning_rate * SVM_gradient(batch_x,w,batch_y,C)\n",
    "print('训练集准确率%f'%training_accuracy[-1])\n",
    "print('验证集准确率%f'%validation_accuracy[-1])\n",
    "#绘图\n",
    "plt.title('loss')\n",
    "plt.xlabel('training step')\n",
    "plt.ylabel('loss value')\n",
    "plt.plot(range(training_step),training_loss,label='training loss')\n",
    "plt.plot(range(training_step),validation_loss,label='validation loss')\n",
    "plt.legend(loc = \"best\")\n",
    "plt.show()\n",
    "plt.title('accuracy')\n",
    "plt.xlabel('training step')\n",
    "plt.ylabel('accuracy')\n",
    "plt.plot(range(training_step),training_accuracy,label='training accuracy')\n",
    "plt.plot(range(training_step),validation_accuracy,label='validation accuracy')\n",
    "plt.legend(loc = \"best\")\n",
    "plt.show()"
   ]
  },
  {
   "cell_type": "code",
   "execution_count": null,
   "metadata": {},
   "outputs": [],
   "source": []
  }
 ],
 "metadata": {
  "kernelspec": {
   "display_name": "Python 3",
   "language": "python",
   "name": "python3"
  },
  "language_info": {
   "codemirror_mode": {
    "name": "ipython",
    "version": 3
   },
   "file_extension": ".py",
   "mimetype": "text/x-python",
   "name": "python",
   "nbconvert_exporter": "python",
   "pygments_lexer": "ipython3",
   "version": "3.7.3"
  }
 },
 "nbformat": 4,
 "nbformat_minor": 2
}
