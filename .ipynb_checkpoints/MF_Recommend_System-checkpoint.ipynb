{
 "cells": [
  {
   "cell_type": "code",
   "execution_count": 1,
   "metadata": {},
   "outputs": [],
   "source": [
    "import pandas as pd\n",
    "import numpy as np\n",
    "import matplotlib.pyplot as plt\n",
    "%matplotlib inline"
   ]
  },
  {
   "cell_type": "code",
   "execution_count": 2,
   "metadata": {},
   "outputs": [],
   "source": [
    "training_path = 'ml-100k/ua.base'\n",
    "test_path = 'ml-100k/ua.test'\n",
    "#读取训练集和测试集\n",
    "training_set = pd.read_csv(training_path,sep='\\t',names=['user_id','item_id','rating','timestamp'])\n",
    "test_set = pd.read_csv(test_path,sep='\\t',names=['user_id','item_id','rating','timestamp'])\n",
    "#填充评分矩阵\n",
    "n_users = np.max(training_set['user_id'].unique())\n",
    "n_items = np.max(training_set['item_id'].unique())\n",
    "R = np.zeros((n_users,n_items))\n",
    "test_R = np.zeros(R.shape)\n",
    "for row in training_set.itertuples(index=False):\n",
    "    R[row.user_id-1][row.item_id-1] = row.rating\n",
    "for row in test_set.itertuples(index=False):\n",
    "    test_R[row.user_id-1][row.item_id-1] = row.rating"
   ]
  },
  {
   "cell_type": "code",
   "execution_count": 35,
   "metadata": {},
   "outputs": [],
   "source": [
    "#损失函数\n",
    "def mse_loss(ground_truth,P,Q):\n",
    "    predict = P.dot(Q.T)\n",
    "    assert ground_truth.shape == predict.shape\n",
    "    step_matrix = np.array(ground_truth > 0,dtype=np.int)\n",
    "    square_error = (predict*step_matrix - ground_truth)**2\n",
    "    result = square_error.sum()/step_matrix.sum()\n",
    "    return result\n",
    "def mse_loss_penalty(ground_truth,P,Q,lambda_):\n",
    "    result = mse_loss(ground_truth,P,Q) + (P**2).sum()/P.size * lambda_ + (Q**2).sum()/Q.size * lambda_\n",
    "    return result\n",
    "#交替最小二乘法，更新指定用户或指定物品\n",
    "def ALS_update_single(fix_matrix,rating_vec):\n",
    "    step_matrix = np.array(rating_vec>0,dtype=np.int).reshape(-1,1)\n",
    "    modified_matrix = fix_matrix * step_matrix\n",
    "    left = modified_matrix.T.dot(modified_matrix) + lambda_ * np.eye(modified_matrix.shape[1])\n",
    "    right = modified_matrix.T.dot(rating_vec)\n",
    "    result = np.linalg.solve(left,right)\n",
    "    return result\n",
    "#交替最小二乘法，返回更新的用户或物品矩阵\n",
    "def ALS_update(fix_matrix,rating_matrix):\n",
    "    result = []\n",
    "    for i in range(rating_matrix.shape[0]):\n",
    "        single_result = ALS_update_single(fix_matrix,rating_matrix[i])\n",
    "        result.append(single_result)\n",
    "    return np.array(result)"
   ]
  },
  {
   "cell_type": "code",
   "execution_count": 41,
   "metadata": {},
   "outputs": [],
   "source": [
    "#参数初始化\n",
    "K = 40\n",
    "P = np.random.rand(n_users,K)\n",
    "Q = np.random.rand(n_items,K)\n",
    "lambda_ = 0.5\n",
    "n_iteration = 100\n",
    "\n",
    "#参数更新过程\n",
    "training_losses = [mse_loss_penalty(R,P,Q,lambda_)]\n",
    "test_losses = [mse_loss_penalty(test_R,P,Q,lambda_)]\n",
    "for n_iter in range(n_iteration):\n",
    "    #交替更新用户矩阵和物品矩阵\n",
    "    P = ALS_update(Q,R)\n",
    "    Q = ALS_update(P,R.T)\n",
    "    training_losses.append(mse_loss_penalty(R,P,Q,lambda_))\n",
    "    test_losses.append(mse_loss_penalty(test_R,P,Q,lambda_))"
   ]
  },
  {
   "cell_type": "code",
   "execution_count": 42,
   "metadata": {},
   "outputs": [
    {
     "data": {
      "image/png": "[encoded data removed]",
      "text/plain": [
       "<Figure size 432x288 with 1 Axes>"
      ]
     },
     "metadata": {
      "needs_background": "light"
     },
     "output_type": "display_data"
    }
   ],
   "source": [
    "#绘图\n",
    "plt.title('loss')\n",
    "plt.xlabel('training step')\n",
    "plt.ylabel('loss value')\n",
    "plt.plot(range(len(training_losses)),training_losses,label='training loss')\n",
    "plt.plot(range(len(test_losses)),test_losses,label='test loss')\n",
    "plt.legend(loc = \"best\")\n",
    "plt.show()"
   ]
  },
  {
   "cell_type": "code",
   "execution_count": 43,
   "metadata": {},
   "outputs": [
    {
     "data": {
      "text/plain": [
       "1.7968953178814986"
      ]
     },
     "execution_count": 43,
     "metadata": {},
     "output_type": "execute_result"
    }
   ],
   "source": [
    "mse_loss(test_R,P,Q)"
   ]
  },
  {
   "cell_type": "code",
   "execution_count": 45,
   "metadata": {},
   "outputs": [
    {
     "data": {
      "text/plain": [
       "[44.95463626713592,\n",
       " 1.7994685833410122,\n",
       " 1.645391586779297,\n",
       " 1.614775409834629,\n",
       " 1.6103631620652736,\n",
       " 1.6148933857626693,\n",
       " 1.6220358795024261,\n",
       " 1.6299548564108421,\n",
       " 1.6377905506724928,\n",
       " 1.6451789537870187,\n",
       " 1.652295724689436,\n",
       " 1.6590097036629796,\n",
       " 1.6650219993049091,\n",
       " 1.6702604794715612,\n",
       " 1.6749380362918982,\n",
       " 1.6793380380971945,\n",
       " 1.6836358829851197,\n",
       " 1.6878822275848968,\n",
       " 1.692055370661389,\n",
       " 1.6961136254551972,\n",
       " 1.70003327320541,\n",
       " 1.703824541816956,\n",
       " 1.707525702582232,\n",
       " 1.7111852825912053,\n",
       " 1.7148437083103723,\n",
       " 1.7185218617120326,\n",
       " 1.7222202606990549,\n",
       " 1.7259272224069235,\n",
       " 1.7296294434596233,\n",
       " 1.733318682959776,\n",
       " 1.7369924987116754,\n",
       " 1.740650714742366,\n",
       " 1.744290399180903,\n",
       " 1.7479015909788784,\n",
       " 1.751465190672689,\n",
       " 1.7549535986264337,\n",
       " 1.7583337884101284,\n",
       " 1.761571801747577,\n",
       " 1.7646374156538476,\n",
       " 1.7675079253524844,\n",
       " 1.7701703813373977,\n",
       " 1.7726220361898701,\n",
       " 1.7748691355524087,\n",
       " 1.7769245211949725,\n",
       " 1.7788047631102408,\n",
       " 1.7805275908328273,\n",
       " 1.782110155373279,\n",
       " 1.7835682128894084,\n",
       " 1.7849159540761088,\n",
       " 1.786166106956907,\n",
       " 1.7873300616747678,\n",
       " 1.7884179276595868,\n",
       " 1.7894385304437916,\n",
       " 1.7903993854621116,\n",
       " 1.7913066842641028,\n",
       " 1.7921653186020512,\n",
       " 1.7929789571661492,\n",
       " 1.7937501786909749,\n",
       " 1.7944806539070015,\n",
       " 1.795171358766872,\n",
       " 1.795822794339242,\n",
       " 1.796435186091136,\n",
       " 1.7970086377154268,\n",
       " 1.7975432223443681,\n",
       " 1.7980390061330818,\n",
       " 1.7984960136158288,\n",
       " 1.7989141574845535,\n",
       " 1.7992931637764016,\n",
       " 1.799632524163248,\n",
       " 1.7999314994014803,\n",
       " 1.8001891838040087,\n",
       " 1.8004046239515616,\n",
       " 1.8005769710479103,\n",
       " 1.800705639639578,\n",
       " 1.800790447145663,\n",
       " 1.8008317166599546,\n",
       " 1.8008303358438549,\n",
       " 1.800787773852911,\n",
       " 1.8007060642593173,\n",
       " 1.8005877646713309,\n",
       " 1.8004359039815403,\n",
       " 1.8002539268697326,\n",
       " 1.8000456430633993,\n",
       " 1.7998151862250855,\n",
       " 1.7995669840911726,\n",
       " 1.799305737308706,\n",
       " 1.7990363991594123,\n",
       " 1.7987641426412335,\n",
       " 1.7984942971083586,\n",
       " 1.798232236999941,\n",
       " 1.7979832132497933,\n",
       " 1.7977521343695548,\n",
       " 1.7975433245827839,\n",
       " 1.7973603017572068,\n",
       " 1.7972056192466723,\n",
       " 1.7970808006419166,\n",
       " 1.7969863715195071,\n",
       " 1.7969219691050662,\n",
       " 1.7968864981488453,\n",
       " 1.7968783010039941,\n",
       " 1.7968953178814986]"
      ]
     },
     "execution_count": 45,
     "metadata": {},
     "output_type": "execute_result"
    }
   ],
   "source": [
    "test_losses"
   ]
  },
  {
   "cell_type": "code",
   "execution_count": null,
   "metadata": {},
   "outputs": [],
   "source": []
  }
 ],
 "metadata": {
  "kernelspec": {
   "display_name": "Python 3",
   "language": "python",
   "name": "python3"
  },
  "language_info": {
   "codemirror_mode": {
    "name": "ipython",
    "version": 3
   },
   "file_extension": ".py",
   "mimetype": "text/x-python",
   "name": "python",
   "nbconvert_exporter": "python",
   "pygments_lexer": "ipython3",
   "version": "3.7.3"
  }
 },
 "nbformat": 4,
 "nbformat_minor": 2
}
