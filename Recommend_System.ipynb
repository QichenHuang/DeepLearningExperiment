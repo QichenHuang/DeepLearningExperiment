{
 "cells": [
  {
   "cell_type": "code",
   "execution_count": 1,
   "metadata": {},
   "outputs": [],
   "source": [
    "import pandas as pd\n",
    "import numpy as np\n",
    "import matplotlib.pyplot as plt\n",
    "%matplotlib inline"
   ]
  },
  {
   "cell_type": "code",
   "execution_count": 2,
   "metadata": {},
   "outputs": [],
   "source": [
    "training_path = 'ml-100k/ua.base'\n",
    "validation_path = 'ml-100k/ua.test'\n",
    "#读取训练集和测试集\n",
    "training_set = pd.read_csv(training_path,sep='\\t',names=['user_id','item_id','rating','timestamp'])\n",
    "validation_set = pd.read_csv(validation_path,sep='\\t',names=['user_id','item_id','rating','timestamp'])\n",
    "#填充评分矩阵\n",
    "n_users = np.max(training_set['user_id'].unique())\n",
    "n_items = np.max(training_set['item_id'].unique())\n",
    "R = np.zeros((n_users,n_items))\n",
    "validation_R = np.zeros(R.shape)\n",
    "for row in training_set.itertuples(index=False):\n",
    "    R[row.user_id-1][row.item_id-1] = row.rating\n",
    "for row in validation_set.itertuples(index=False):\n",
    "    validation_R[row.user_id-1][row.item_id-1] = row.rating"
   ]
  },
  {
   "cell_type": "code",
   "execution_count": 3,
   "metadata": {},
   "outputs": [],
   "source": [
    "#损失函数\n",
    "def mse_loss(ground_truth,P,Q):\n",
    "    predict = P.dot(Q.T)\n",
    "    assert ground_truth.shape == predict.shape\n",
    "    step_matrix = np.array(ground_truth > 0,dtype=np.int)\n",
    "    square_error = (predict*step_matrix - ground_truth)**2\n",
    "    result = square_error.sum()/step_matrix.sum()\n",
    "    return result\n",
    "def mse_loss_penalty(ground_truth,P,Q,lambda_):\n",
    "    result = mse_loss(ground_truth,P,Q) + (P**2).sum()/P.size * lambda_ + (Q**2).sum()/Q.size * lambda_\n",
    "    return result\n",
    "#交替最小二乘法，更新指定用户或指定物品\n",
    "def ALS_update_single(fix_matrix,rating_vec):\n",
    "    step_matrix = np.array(rating_vec>0,dtype=np.int).reshape(-1,1)\n",
    "    modified_matrix = fix_matrix * step_matrix\n",
    "    left = modified_matrix.T.dot(modified_matrix) + lambda_ * np.eye(modified_matrix.shape[1])\n",
    "    right = modified_matrix.T.dot(rating_vec)\n",
    "    result = np.linalg.solve(left,right)\n",
    "    return result\n",
    "#交替最小二乘法，返回更新的用户或物品矩阵\n",
    "def ALS_update(fix_matrix,rating_matrix):\n",
    "    result = []\n",
    "    for i in range(rating_matrix.shape[0]):\n",
    "        single_result = ALS_update_single(fix_matrix,rating_matrix[i])\n",
    "        result.append(single_result)\n",
    "    return np.array(result)"
   ]
  },
  {
   "cell_type": "code",
   "execution_count": 11,
   "metadata": {},
   "outputs": [],
   "source": [
    "#参数初始化\n",
    "K = 40\n",
    "P = np.random.rand(n_users,K)\n",
    "Q = np.random.rand(n_items,K)\n",
    "lambda_ = 0.5\n",
    "n_iteration = 100\n",
    "\n",
    "#参数更新过程\n",
    "training_losses = [mse_loss_penalty(R,P,Q,lambda_)]\n",
    "#validation_losses = [mse_loss_penalty(validation_R,P,Q,lambda_)]\n",
    "validation_losses = [mse_loss(validation_R,P,Q)]\n",
    "for n_iter in range(n_iteration):\n",
    "    #交替更新用户矩阵和物品矩阵\n",
    "    P = ALS_update(Q,R)\n",
    "    Q = ALS_update(P,R.T)\n",
    "    validation_loss = mse_loss(validation_R,P,Q)\n",
    "    if validation_loss > validation_losses[-1]:\n",
    "        break\n",
    "    training_losses.append(mse_loss_penalty(R,P,Q,lambda_))\n",
    "    #validation_losses.append(mse_loss_penalty(validation_R,P,Q,lambda_))\n",
    "    validation_losses.append(validation_loss)"
   ]
  },
  {
   "cell_type": "code",
   "execution_count": 12,
   "metadata": {},
   "outputs": [
    {
     "data": {
      "image/png": "[encoded data removed]",
      "text/plain": [
       "<Figure size 432x288 with 1 Axes>"
      ]
     },
     "metadata": {
      "needs_background": "light"
     },
     "output_type": "display_data"
    }
   ],
   "source": [
    "#绘图\n",
    "plt.title('loss')\n",
    "plt.xlabel('training step')\n",
    "plt.ylabel('loss value')\n",
    "plt.plot(range(len(training_losses)),training_losses,label='training loss')\n",
    "plt.plot(range(len(validation_losses)),validation_losses,label='validation loss')\n",
    "plt.legend(loc = \"best\")\n",
    "plt.show()"
   ]
  },
  {
   "cell_type": "code",
   "execution_count": 13,
   "metadata": {},
   "outputs": [
    {
     "data": {
      "text/plain": [
       "[45.55715694493316, 1.816385945278783, 1.6608106052084395, 1.6415816818174505]"
      ]
     },
     "execution_count": 13,
     "metadata": {},
     "output_type": "execute_result"
    }
   ],
   "source": [
    "validation_losses"
   ]
  },
  {
   "cell_type": "code",
   "execution_count": null,
   "metadata": {},
   "outputs": [],
   "source": []
  }
 ],
 "metadata": {
  "kernelspec": {
   "display_name": "Python 3",
   "language": "python",
   "name": "python3"
  },
  "language_info": {
   "codemirror_mode": {
    "name": "ipython",
    "version": 3
   },
   "file_extension": ".py",
   "mimetype": "text/x-python",
   "name": "python",
   "nbconvert_exporter": "python",
   "pygments_lexer": "ipython3",
   "version": "3.7.3"
  }
 },
 "nbformat": 4,
 "nbformat_minor": 2
}
