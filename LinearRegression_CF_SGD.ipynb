{
 "cells": [
  {
   "cell_type": "code",
   "execution_count": 1,
   "metadata": {},
   "outputs": [],
   "source": [
    "#导入包\n",
    "import numpy as np\n",
    "from sklearn.datasets import load_svmlight_file\n",
    "from sklearn.model_selection import train_test_split\n",
    "import matplotlib.pyplot as plt\n",
    "%matplotlib inline"
   ]
  },
  {
   "cell_type": "code",
   "execution_count": 2,
   "metadata": {},
   "outputs": [],
   "source": [
    "#Loss函数\n",
    "def Loss(X,w,y):\n",
    "    if(len(y)!=len(X)):\n",
    "        raise \"y和X长度不同\"\n",
    "    if(len(X[0])!=len(w)):\n",
    "        raise \"X的列数与w的长度不同\"\n",
    "    err = y-X.dot(w)\n",
    "    return err.dot(err)*0.5/len(y)\n"
   ]
  },
  {
   "cell_type": "code",
   "execution_count": 3,
   "metadata": {},
   "outputs": [],
   "source": [
    "#读取数据\n",
    "X,y = load_svmlight_file(\"housing_scale.txt\")\n",
    "X = X.toarray()\n",
    "#为X添加一维值为 1 的特征，误差计算变为 y - Xw,方便运算\n",
    "ones = [[1]] * X.shape[0]\n",
    "X = np.concatenate((X,ones),axis = 1)\n",
    "#划分训练集合测试集\n",
    "X_train,X_validation,y_train,y_validation = train_test_split(X,y,test_size = 0.33,random_state = 42)"
   ]
  },
  {
   "cell_type": "code",
   "execution_count": 4,
   "metadata": {},
   "outputs": [
    {
     "name": "stdout",
     "output_type": "stream",
     "text": [
      "闭式解训练集Loss:11.492508\n",
      "闭式解验证集Loss:10.362012\n"
     ]
    }
   ],
   "source": [
    "#-----------------线性回归的闭式解-------------------------------\n",
    "w = np.linalg.inv(X_train.T.dot(X_train)).dot(X_train.T).dot(y_train)\n",
    "print('闭式解训练集Loss:%f'% Loss(X_train,w,y_train))\n",
    "print('闭式解验证集Loss:%f'% Loss(X_validation,w,y_validation))"
   ]
  },
  {
   "cell_type": "code",
   "execution_count": 5,
   "metadata": {},
   "outputs": [
    {
     "name": "stdout",
     "output_type": "stream",
     "text": [
      "梯度下降训练集Loss:11.786695\n",
      "梯度下降验证集Loss:10.534759\n"
     ]
    },
    {
     "data": {
      "image/png": "[encoded data removed]",
      "text/plain": [
       "<Figure size 432x288 with 1 Axes>"
      ]
     },
     "metadata": {
      "needs_background": "light"
     },
     "output_type": "display_data"
    }
   ],
   "source": [
    "#-----------------线性回归和随机梯度下降-------------------------\n",
    "#参数初始化\n",
    "w = np.random.randn(X.shape[1])\n",
    "learning_rate = 0.01\n",
    "training_step = 10000\n",
    "#保存每次迭代的损失函数\n",
    "loss_train = []\n",
    "loss_validation = []\n",
    "#迭代训练\n",
    "for i in range(training_step):\n",
    "    #随机选取一个样本\n",
    "    rand_i = np.random.randint(0,X_train.shape[0])\n",
    "    x_i = X_train[rand_i]\n",
    "    y_i = y_train[rand_i]\n",
    "    #保存当前迭代下的训练集合验证集的损失函数\n",
    "    loss_train.append(Loss(X_train,w,y_train))\n",
    "    loss_validation.append(Loss(X_validation,w,y_validation))\n",
    "    #求损失函数的梯度的反方向G\n",
    "    D = -(w.dot(x_i)-y_i) * x_i\n",
    "    #更新参数\n",
    "    w = w + learning_rate * D\n",
    "    \n",
    "print('梯度下降训练集Loss:%f'% loss_train[-1])\n",
    "print('梯度下降验证集Loss:%f'% loss_validation[-1])\n",
    "#绘制损失函数变化图\n",
    "plt.plot(range(training_step),loss_train ,label=\"loss_train\",)\n",
    "plt.plot(range(training_step),loss_validation ,label=\"loss_validation\")\n",
    "plt.legend(loc = \"best\")\n",
    "ax = plt.gca()\n",
    "ax.set_xlabel(\"number of iterations\")\n",
    "ax.set_ylabel(\"loss function\")\n",
    "plt.show()"
   ]
  },
  {
   "cell_type": "code",
   "execution_count": null,
   "metadata": {},
   "outputs": [],
   "source": []
  }
 ],
 "metadata": {
  "kernelspec": {
   "display_name": "Python 3",
   "language": "python",
   "name": "python3"
  },
  "language_info": {
   "codemirror_mode": {
    "name": "ipython",
    "version": 3
   },
   "file_extension": ".py",
   "mimetype": "text/x-python",
   "name": "python",
   "nbconvert_exporter": "python",
   "pygments_lexer": "ipython3",
   "version": "3.7.3"
  }
 },
 "nbformat": 4,
 "nbformat_minor": 2
}
